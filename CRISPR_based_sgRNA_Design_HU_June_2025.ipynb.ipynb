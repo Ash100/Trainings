{
  "nbformat": 4,
  "nbformat_minor": 0,
  "metadata": {
    "colab": {
      "provenance": [],
      "authorship_tag": "ABX9TyMcA6uL4c0KGzw7pe6vNp+a",
      "include_colab_link": true
    },
    "kernelspec": {
      "name": "python3",
      "display_name": "Python 3"
    },
    "language_info": {
      "name": "python"
    }
  },
  "cells": [
    {
      "cell_type": "markdown",
      "metadata": {
        "id": "view-in-github",
        "colab_type": "text"
      },
      "source": [
        "<a href=\"https://colab.research.google.com/github/Ash100/Trainings/blob/main/CRISPR_based_sgRNA_Design_HU_June_2025.ipynb.ipynb\" target=\"_parent\"><img src=\"https://colab.research.google.com/assets/colab-badge.svg\" alt=\"Open In Colab\"/></a>"
      ]
    },
    {
      "cell_type": "markdown",
      "source": [
        "# 🧬 **Fundamentals of Genome Editing and gRNA Design**\n",
        "## Training Workshop for GEABM-2025, (June 19-20, 2025)-Hazara University\n",
        "### Author: **Dr. Ashfaq Ahmad** (_Ph.D, Structure Biology, Postdoc Bioinformatics)_\n",
        "\n",
        "This notebook demonstration provides a practical demonstration of fundamental steps in genome editing, focusing on acquiring and manipulating DNA sequences, and then designing **guide RNAs (gRNAs)** for CRISPR-Cas9 systems.\n",
        "\n",
        "---\n",
        "\n",
        "## 📑 Table of Contents\n",
        "1. [Sequence Acquisition and Manipulation](#sequence-acquisition-and-manipulation)  \n",
        "    1.1. [Fetching a DNA Sequence from NCBI](#fetching-a-dna-sequence-from-ncbi)  \n",
        "    1.2. [Basic Sequence Operations](#basic-sequence-operations)  \n",
        "2. [Guide RNA (gRNA) Design](#guide-rna-grna-design)  \n",
        "    2.1. [Identifying PAM Sites and Target Sequences](#identifying-pam-sites-and-target-sequences)  \n",
        "    2.2. [gRNA Structure and Candidates](#grna-structure-and-candidates)  \n",
        "    2.3. [Simplified Off-Target Consideration](#simplified-off-target-consideration)  \n",
        "    2.4. [Simplified On-Target Efficiency (Conceptual)](#simplified-on-target-efficiency-conceptual)"
      ],
      "metadata": {
        "id": "7GXrkCt5Vw2_"
      }
    },
    {
      "cell_type": "code",
      "source": [
        "#@title Install and Import necessary programs and libraries\n",
        "!pip install biopython\n",
        "\n",
        "# Import necessary libraries\n",
        "from Bio import Entrez, SeqIO\n",
        "from Bio.Seq import Seq\n",
        "import matplotlib.pyplot as plt\n",
        "import re\n",
        "\n",
        "# Set email for NCBI Entrez (required)\n",
        "Entrez.email = \"your.email@example.com\"  # Replace with your email"
      ],
      "metadata": {
        "cellView": "form",
        "id": "HAcVEKcYNqsV"
      },
      "execution_count": null,
      "outputs": []
    },
    {
      "cell_type": "markdown",
      "source": [],
      "metadata": {
        "id": "P5fqr9_GYWG1"
      }
    },
    {
      "cell_type": "markdown",
      "source": [
        "# 1.1 Fetching a DNA Sequence from NCBI\n",
        "\n",
        "## Biological Context\n",
        "The SAL1 gene in *Hordeum vulgare* (barley) encodes a protein involved in salt tolerance, a critical trait for crops in saline soils. SAL1 is a homolog of Arabidopsis SAL1, which regulates stress responses by modulating inositol phosphate signaling. Public databases like NCBI's GenBank store its sequence (accession EU096087.1), enabling bioinformatics analysis for genetic engineering or CRISPR editing. The Entrez API provides programmatic access to GenBank, requiring an email for tracking.\n",
        "\n",
        "## Objective\n",
        "Retrieve the SAL1 sequence from NCBI and display its metadata (ID, description, length) to confirm successful acquisition."
      ],
      "metadata": {
        "id": "Am7yI5h6QSzZ"
      }
    },
    {
      "cell_type": "code",
      "source": [
        "#@title Fetch a DNA sequence from the NCBI\n",
        "def fetch_sequence(accession):\n",
        "    try:\n",
        "        handle = Entrez.efetch(db=\"nucleotide\", id=accession, rettype=\"fasta\", retmode=\"text\")\n",
        "        record = SeqIO.read(handle, \"fasta\")\n",
        "        handle.close()\n",
        "        return record\n",
        "    except Exception as e:\n",
        "        print(f\"Error fetching sequence: {e}\")\n",
        "        return None\n",
        "\n",
        "# Example: Fetch BRCA1 gene sequence (example accession)\n",
        "accession = \"EU096087.1\"  # SAL1 gene\n",
        "record = fetch_sequence(accession)\n",
        "\n",
        "if record:\n",
        "    print(f\"Sequence ID: {record.id}\")\n",
        "    print(f\"Description: {record.description}\")\n",
        "    print(f\"Sequence length: {len(record.seq)} bp\")\n",
        "    print(f\"First 100 bp: {record.seq[:100]}\")\n",
        "else:\n",
        "    print(\"Failed to fetch sequence.\")"
      ],
      "metadata": {
        "cellView": "form",
        "id": "Z7OgGCiQNyeR"
      },
      "execution_count": null,
      "outputs": []
    },
    {
      "cell_type": "markdown",
      "source": [
        "# 1.2 Basic Sequence Operations\n",
        "\n",
        "## Biological Context\n",
        "DNA serves as a template for life: transcription converts DNA to RNA (replacing T with U), and translation converts RNA to proteins using the genetic code. The reverse complement represents the opposite DNA strand, as genes can be on either strand. GC content (percentage of G and C bases) affects DNA stability, replication, and mutation rates. High GC content in SAL1's regulatory regions may indicate stable structures.\n",
        "\n",
        "## Objective\n",
        "Perform transcription, reverse complementation, and GC content calculation on SAL1."
      ],
      "metadata": {
        "id": "uAAwQTaZREsf"
      }
    },
    {
      "cell_type": "code",
      "source": [
        "#@title Basic sequence operations\n",
        "if record:\n",
        "    dna_seq = record.seq\n",
        "    print(f\"Original sequence (first 100 bp): {dna_seq[:100]}\")\n",
        "\n",
        "    # Transcription (DNA to RNA)\n",
        "    rna_seq = dna_seq.transcribe()\n",
        "    print(f\"RNA sequence (first 100 bp): {rna_seq[:100]}\")\n",
        "\n",
        "    # Translation (DNA to protein)\n",
        "    protein_seq = dna_seq.translate(to_stop=True)\n",
        "    print(f\"Protein sequence (first 50 aa): {protein_seq[:50]}\")\n",
        "\n",
        "    # Reverse complement\n",
        "    rev_comp = dna_seq.reverse_complement()\n",
        "    print(f\"Reverse complement (first 100 bp): {rev_comp[:100]}\")\n",
        "\n",
        "    # GC content\n",
        "    gc_count = dna_seq.count(\"G\") + dna_seq.count(\"C\")\n",
        "    gc_percent = (gc_count / len(dna_seq)) * 100\n",
        "    print(f\"GC content: {gc_percent:.2f}%\")\n",
        "\n",
        "    # Visualization: Base composition pie chart\n",
        "    base_counts = {'A': dna_seq.count('A'), 'T': dna_seq.count('T'),\n",
        "                   'G': dna_seq.count('G'), 'C': dna_seq.count('C')}\n",
        "    plt.figure(figsize=(6, 6))\n",
        "    plt.pie(base_counts.values(), labels=base_counts.keys(), colors=['red', 'blue', 'green', 'purple'], autopct='%1.1f%%')\n",
        "    plt.title('Base Composition of SAL1 Sequence')\n",
        "    plt.show()\n",
        "else:\n",
        "    print(\"No sequence available for operations.\")"
      ],
      "metadata": {
        "cellView": "form",
        "id": "wJWIyn_HOCtM"
      },
      "execution_count": null,
      "outputs": []
    },
    {
      "cell_type": "markdown",
      "source": [
        "# 2.1 Identifying PAM Sites and Target Sequences\n",
        "\n",
        "## Biological Context\n",
        "CRISPR/Cas9 requires a protospacer adjacent motif (PAM), typically NGG for SpCas9, to initiate DNA binding. The 20 bp upstream of the PAM (protospacer) pairs with the guide RNA (gRNA). PAM sites dictate where Cas9 can cut, making their identification crucial for CRISPR design. In SAL1, targeting the coding region could disrupt salt tolerance, aiding functional studies or enhancing stress resistance.\n",
        "\n",
        "## PAM Mechanics\n",
        "Cas9 recognizes NGG and cleaves DNA ~3–4 bp upstream, triggering repair pathways like non-homologous end joining (NHEJ). PAM sites occur every ~8–12 bp in random DNA, but their density varies. In SAL1's compact sequence, PAM sites are fewer but sufficient for targeted editing.\n",
        "\n",
        "## Objective\n",
        "Locate NGG PAM sites in SAL1 and extract 20 bp target sequences for gRNA design."
      ],
      "metadata": {
        "id": "VFOFxAkeRfTH"
      }
    },
    {
      "cell_type": "code",
      "source": [
        "#@title Identify PAM sites (NGG for SpCas9) and target sequences\n",
        "def find_pam_sites(sequence, pam=\"NGG\"):\n",
        "    pam_pattern = pam.replace(\"N\", \"[ATCG]\").replace(\"G\", \"G\")\n",
        "    pam_regex = re.compile(pam_pattern)\n",
        "    pam_sites = []\n",
        "\n",
        "    for match in pam_regex.finditer(str(sequence)):\n",
        "        start = match.start()\n",
        "        # Target sequence is 20 bp upstream of PAM\n",
        "        if start >= 20:\n",
        "            target_seq = sequence[start-20:start]\n",
        "            pam_sites.append((start, target_seq, match.group()))\n",
        "\n",
        "    return pam_sites\n",
        "\n",
        "# Find PAM sites in the sequence\n",
        "if record:\n",
        "    pam_sites = find_pam_sites(record.seq)\n",
        "    print(f\"Found {len(pam_sites)} PAM sites (NGG).\")\n",
        "    print(\"First 5 PAM sites (position, target sequence, PAM):\")\n",
        "    for i, (pos, target, pam) in enumerate(pam_sites[:5]):\n",
        "        print(f\"Site {i+1}: Position {pos}, Target: {target}, PAM: {pam}\")\n",
        "\n",
        "    # Visualization: PAM site distribution histogram\n",
        "    positions = [p[0] for p in pam_sites]\n",
        "    plt.figure(figsize=(10, 5))\n",
        "    plt.hist(positions, bins=50, color='purple', alpha=0.7)\n",
        "    plt.xlabel('Position in Sequence (bp)')\n",
        "    plt.ylabel('Number of PAM Sites')\n",
        "    plt.title('Distribution of NGG PAM Sites in SAL1')\n",
        "    plt.show()\n",
        "else:\n",
        "    print(\"No sequence available for PAM site analysis.\")"
      ],
      "metadata": {
        "cellView": "form",
        "id": "ORCLnxgGOPCm"
      },
      "execution_count": null,
      "outputs": []
    },
    {
      "cell_type": "markdown",
      "source": [
        "# 2.2 gRNA Structure and Candidates\n",
        "\n",
        "## Biological Context\n",
        "Guide RNA (gRNA) directs Cas9 to the target DNA via a 20 bp spacer that base-pairs with the protospacer. The gRNA also includes a scaffold (~80 nt) that binds Cas9, enabling DNA cleavage. In SAL1, gRNAs can knock out the gene to study salt tolerance or introduce mutations to enhance it, supporting barley's adaptation to saline environments.\n",
        "\n",
        "## gRNA Structure\n",
        "The spacer ensures specificity, while the scaffold (tracrRNA-derived) forms RNA secondary structures critical for Cas9 activation. The scaffold is conserved across SpCas9 applications, ensuring reliable function in barley.\n",
        "\n",
        "## Objective\n",
        "Generate gRNA sequences for top PAM sites in SAL1 by combining 20 bp spacers with a standard scaffold."
      ],
      "metadata": {
        "id": "p7av_ezMSCi1"
      }
    },
    {
      "cell_type": "code",
      "source": [
        "#@title Generate gRNA candidates with basic structure\n",
        "def generate_grna(target_seq):\n",
        "    grna = Seq(target_seq)\n",
        "    # Basic gRNA structure: 20 bp target + scaffold (simplified)\n",
        "    scaffold = \"GUUUUAGAGCUAGAAAUAGCAAGUUAAAAUAAGGCUAGUCCGUUAUCAACUUGAAAAAGUGGCACCGAGUCGGUGCUUUU\"\n",
        "    return str(grna) + scaffold\n",
        "\n",
        "# Select top 5 PAM sites and generate gRNA\n",
        "if record:\n",
        "    pam_sites = find_pam_sites(record.seq)\n",
        "    print(\"Top 5 gRNA candidates (20 bp target + scaffold):\")\n",
        "    for i, (pos, target, pam) in enumerate(pam_sites[:5]):\n",
        "        grna_seq = generate_grna(target)\n",
        "        print(f\"gRNA {i+1} (Position {pos}):\")\n",
        "        print(f\"Target: {target}\")\n",
        "        print(f\"PAM: {pam}\")\n",
        "        print(f\"gRNA sequence (first 50 bp + scaffold): {grna_seq[:50]}...\")\n",
        "\n",
        "    # Visualization: Spacer length validation bar plot\n",
        "    spacers = [len(str(p[1])) for p in pam_sites[:5]]\n",
        "    plt.figure(figsize=(6, 4))\n",
        "    plt.bar(range(1, 6), spacers, color='orange')\n",
        "    plt.axhline(y=20, color='green', linestyle='--', label='Expected Length (20 bp)')\n",
        "    plt.xlabel('gRNA Candidate #')\n",
        "    plt.ylabel('Spacer Length (bp)')\n",
        "    plt.title('Spacer Lengths of Top 5 gRNA Candidates')\n",
        "    plt.legend()\n",
        "    plt.show()\n",
        "else:\n",
        "    print(\"No sequence available for gRNA design.\")"
      ],
      "metadata": {
        "cellView": "form",
        "id": "PHXgUkeWOhLG"
      },
      "execution_count": null,
      "outputs": []
    },
    {
      "cell_type": "markdown",
      "source": [
        "# 2.3 Simplified Off-Target Consideration\n",
        "\n",
        "## Biological Context\n",
        "Off-target effects occur when Cas9 cleaves unintended DNA due to partial gRNA matches, potentially disrupting unrelated genes. In SAL1 editing, off-targets in other stress-related genes could affect barley's resilience. Off-target sites typically have 1–3 mismatches in the spacer, especially distal from the PAM, reducing Cas9 specificity.\n",
        "\n",
        "## Off-Target Biology\n",
        "Cas9 tolerates mismatches, particularly in the 5' end of the spacer. Off-target analysis scans genomes for similar sequences, but here we simplify by searching SAL1 itself. In barley, off-targets in stress pathways could complicate salt tolerance studies.\n",
        "\n",
        "## Objective\n",
        "Identify potential off-target sites for the first SAL1 gRNA by counting mismatches within the SAL1 sequence."
      ],
      "metadata": {
        "id": "pc11qvFFShoW"
      }
    },
    {
      "cell_type": "code",
      "source": [
        "#@title Simplified off-target scoring (basic mismatch counting)\n",
        "def check_off_target(target_seq, genome_seq, max_mismatches=3):\n",
        "    target = str(target_seq)\n",
        "    off_targets = []\n",
        "    for i in range(len(genome_seq) - len(target)):\n",
        "        sub_seq = str(genome_seq[i:i+len(target)])\n",
        "        mismatches = sum(a != b for a, b in zip(target, sub_seq))\n",
        "        if mismatches <= max_mismatches:\n",
        "            off_targets.append((i, sub_seq, mismatches))\n",
        "    return off_targets\n",
        "\n",
        "# Check off-targets for the first gRNA candidate\n",
        "if record and pam_sites:\n",
        "    target_seq = pam_sites[0][1]  # First target sequence\n",
        "    off_targets = check_off_target(target_seq, record.seq)\n",
        "    print(f\"Off-target analysis for target: {target_seq}\")\n",
        "    print(f\"Found {len(off_targets)} potential off-target sites with <= 3 mismatches:\")\n",
        "    for i, (pos, seq, mismatches) in enumerate(off_targets[:5]):\n",
        "        print(f\"Off-target {i+1}: Position {pos}, Sequence: {seq}, Mismatches: {mismatches}\")\n",
        "\n",
        "    # Visualization: Mismatch distribution histogram\n",
        "    mismatch_counts = [t[2] for t in off_targets]\n",
        "    plt.figure(figsize=(6, 4))\n",
        "    plt.hist(mismatch_counts, bins=range(4), align='left', color='red', alpha=0.7)\n",
        "    plt.xlabel('Number of Mismatches')\n",
        "    plt.ylabel('Number of Off-Target Sites')\n",
        "    plt.title('Mismatch Distribution for First SAL1 gRNA')\n",
        "    plt.show()\n",
        "else:\n",
        "    print(\"No sequence or PAM sites available for off-target analysis.\")"
      ],
      "metadata": {
        "cellView": "form",
        "id": "5ihW3obrOuZo"
      },
      "execution_count": null,
      "outputs": []
    },
    {
      "cell_type": "markdown",
      "source": [
        "# 2.4 Simplified On-Target Efficiency (Conceptual)\n",
        "\n",
        "## Biological Context\n",
        "gRNA efficiency determines Cas9's ability to cut the target DNA. Efficiency depends on GC content (30–70% is optimal), sequence composition, and chromatin state. In SAL1, efficient gRNAs ensure precise edits to study or enhance salt tolerance, critical for barley in saline soils.\n",
        "\n",
        "## Efficiency Factors\n",
        "- **GC Content**: Moderate GC improves Cas9 binding without forming stable RNA structures.\n",
        "- **3' End**: Avoiding GG at the spacer's end enhances efficiency.\n",
        "- **Complexity**: Diverse sequences reduce off-target risk and improve specificity.\n",
        "\n",
        "## Objective\n",
        "Score the top 5 SAL1 gRNA candidates based on simplified efficiency criteria."
      ],
      "metadata": {
        "id": "sagmJZttUjuW"
      }
    },
    {
      "cell_type": "code",
      "source": [
        "#@title Simplified on-target efficiency scoring (GC content and basic rules)\n",
        "def score_grna_efficiency(target_seq):\n",
        "    gc_count = target_seq.count(\"G\") + target_seq.count(\"C\")\n",
        "    gc_percent = (gc_count / len(target_seq)) * 100\n",
        "\n",
        "    # Simplified rules for efficiency\n",
        "    score = 0\n",
        "    if 30 <= gc_percent <= 70:  # Optimal GC content\n",
        "        score += 50\n",
        "    if not target_seq.endswith(\"GG\"):  # Avoid GG at 3' end\n",
        "        score += 30\n",
        "    if len(set(target_seq)) > 10:  # Sequence complexity\n",
        "        score += 20\n",
        "\n",
        "    return score, gc_percent\n",
        "\n",
        "# Score top 5 gRNA candidates\n",
        "if record and pam_sites:\n",
        "    print(\"On-target efficiency scores for top 5 gRNA candidates:\")\n",
        "    scores = []\n",
        "    for i, (pos, target, pam) in enumerate(pam_sites[:5]):\n",
        "        score, gc = score_grna_efficiency(target)\n",
        "        scores.append(score)\n",
        "        print(f\"gRNA {i+1} (Position {pos}):\")\n",
        "        print(f\"Target: {target}\")\n",
        "        print(f\"GC content: {gc:.2f}%\")\n",
        "        print(f\"Efficiency score: {score}/100\")\n",
        "\n",
        "    # Visualization: Efficiency scores bar plot\n",
        "    plt.figure(figsize=(6, 4))\n",
        "    plt.bar(range(1, 6), scores, color='green')\n",
        "    plt.xlabel('gRNA Candidate #')\n",
        "    plt.ylabel('Efficiency Score (out of 100)')\n",
        "    plt.title('Efficiency Scores of Top 5 SAL1 gRNA Candidates')\n",
        "    plt.show()\n",
        "else:\n",
        "    print(\"No sequence or PAM sites available for efficiency scoring.\")"
      ],
      "metadata": {
        "cellView": "form",
        "id": "4m0xDRbpO0aG"
      },
      "execution_count": null,
      "outputs": []
    },
    {
      "cell_type": "markdown",
      "source": [
        "### Thank You So Much - I hope you learned Something New"
      ],
      "metadata": {
        "id": "FxTNmTvGYFQZ"
      }
    }
  ]
}